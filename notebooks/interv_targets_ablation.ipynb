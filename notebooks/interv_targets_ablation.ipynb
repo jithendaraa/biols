{
 "cells": [
  {
   "cell_type": "code",
   "execution_count": null,
   "metadata": {},
   "outputs": [],
   "source": [
    "import wandb\n",
    "import matplotlib\n",
    "import matplotlib.pyplot as plt\n",
    "import numpy as np\n",
    "import seaborn as sns\n",
    "import pandas as pd\n",
    "sns.set_style('dark')\n",
    "from collections import defaultdict\n",
    "import helper"
   ]
  },
  {
   "cell_type": "code",
   "execution_count": null,
   "metadata": {},
   "outputs": [],
   "source": [
    "api = wandb.Api(timeout=40)\n",
    "runs = api.runs(\"structurelearning/BIOLS\")\n",
    "max_steps = 20000\n",
    "reqd_keys = ['Evaluations/SHD', 'Evaluations/AUROC', 'L_MSE']"
   ]
  },
  {
   "cell_type": "code",
   "execution_count": null,
   "metadata": {},
   "outputs": [],
   "source": [
    "def get_plot_dataframe(data_folders, runs, reqd_keys):\n",
    "    plot_data_dict = defaultdict(lambda: [])\n",
    "\n",
    "    for data_folder in data_folders:\n",
    "        exp_config = {'biols_data_folder': data_folder}\n",
    "        exp_run = helper.get_reqd_runs(exp_config, runs, num_seeds=5)\n",
    "        plotting_data = helper.get_plotting_data(exp_run, reqd_keys)\n",
    "\n",
    "        splits = data_folder.split('-')\n",
    "        exp_edges = int(splits[0][-1])\n",
    "        proj = splits[2][:-4]\n",
    "        if proj == '3_layer_mlp':   proj = 'nonlinear'\n",
    "        d = int(splits[3][1:])\n",
    "        D = int(splits[4][1:])\n",
    "        num_intervs = int(splits[6][7:])\n",
    "        interv_sets = int(splits[7][4:])\n",
    "\n",
    "        for key in reqd_keys:\n",
    "            num_seeds = len(plotting_data[key][:, -1])\n",
    "            lhs_key = key\n",
    "            if 'SHD' in key:        lhs_key = 'SHD'\n",
    "            elif 'AUROC' in key:    lhs_key = 'AUROC'\n",
    "            plot_data_dict[lhs_key] += (plotting_data[key][:, -1]).tolist()\n",
    "        \n",
    "        rstring = r\"$ER-{}, d={}, D={}\\ $\".format(exp_edges, d, D)\n",
    "        plot_data_dict['Graph density'] += [rstring] * num_seeds\n",
    "        plot_data_dict['Interventional Sets'] += [interv_sets] * num_seeds\n",
    "        plot_data_dict['Model'] += ['BIOLS'] * num_seeds\n",
    "        plot_data_dict['biols_data_folder'] += [exp_config['biols_data_folder']] * num_seeds\n",
    "\n",
    "    plot_df = pd.DataFrame(plot_data_dict)\n",
    "    name = f'er{exp_edges}_d{d}_D{D}_proj{proj}'\n",
    "    return plot_df, name"
   ]
  },
  {
   "cell_type": "code",
   "execution_count": null,
   "metadata": {},
   "outputs": [],
   "source": [
    "def fetch_and_plot_num_intervs_ablation(num_nodes, num_intervs, basepath, runs, reqd_keys, box_widths=0.8, fontsize=18):\n",
    "    zfilled_nodes = str(num_nodes).zfill(3)\n",
    "    data_folders = []\n",
    "    for num_interv in num_intervs:\n",
    "        datafolder = f'er1-ws_datagen_fix_noise_interv_noise-linearproj-d{zfilled_nodes}-D0100-multi-n_pairs{num_interv}-sets{int(num_interv/100)}-gaussianinterv'\n",
    "        data_folders.append(datafolder)\n",
    "\n",
    "    plot_df, name = get_plot_dataframe(data_folders, runs, reqd_keys)\n",
    "    helper.plot_num_interventions_ablation(plot_df, basepath, name, reqd_keys, fontsize, num_intervs, box_widths=box_widths, title=None)"
   ]
  },
  {
   "cell_type": "code",
   "execution_count": null,
   "metadata": {},
   "outputs": [],
   "source": [
    "fetch_and_plot_num_intervs_ablation(\n",
    "    num_nodes=20, \n",
    "    num_intervs=[2000, 4000, 6000, 8000, 10000], \n",
    "    basepath='/home/mila/j/jithendaraa.subramanian/scratch/biols_datasets/num_intervention_ablations', \n",
    "    runs=runs, \n",
    "    reqd_keys=reqd_keys, \n",
    "    box_widths=0.6\n",
    ")"
   ]
  },
  {
   "cell_type": "code",
   "execution_count": null,
   "metadata": {},
   "outputs": [],
   "source": []
  }
 ],
 "metadata": {
  "kernelspec": {
   "display_name": "Python 3.9.16 ('biols')",
   "language": "python",
   "name": "python3"
  },
  "language_info": {
   "name": "python",
   "version": "3.9.16"
  },
  "orig_nbformat": 4,
  "vscode": {
   "interpreter": {
    "hash": "b7b2c863777ec21489ff8c32f24264188fa173c08aec8f484b81e8d9c8a68c3d"
   }
  }
 },
 "nbformat": 4,
 "nbformat_minor": 2
}
